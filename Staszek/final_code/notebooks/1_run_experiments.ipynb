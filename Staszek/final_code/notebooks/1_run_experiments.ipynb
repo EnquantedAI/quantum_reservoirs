{
 "cells": [
  {
   "cell_type": "markdown",
   "id": "fb75e18f",
   "metadata": {},
   "source": [
    "# Experiment Runner: QRC-ESN vs. Classical ESN\n",
    "\n",
    "### **Notebook Objective**\n",
    "\n",
    "This notebook serves as the main script to run a series of experiments comparing two reservoir computing models:\n",
    "1.  **Quantum Reservoir Computer (QRC-ESN)**\n",
    "2.  **Classical Echo State Network (ESN)**\n",
    "\n",
    "### **Process**\n",
    "- Defines the experiment configuration (data profiles, hyperparameter grids, and constants).\n",
    "- Iterates through each defined data profile.\n",
    "- For each profile, it performs a grid search over the hyperparameter space for both models, using parallel processing (`joblib`) for efficiency.\n",
    "- It saves all collated results into a single `.csv` file for later analysis in a separate notebook."
   ]
  },
  {
   "cell_type": "code",
   "execution_count": 1,
   "id": "064e73ac",
   "metadata": {},
   "outputs": [
    {
     "name": "stdout",
     "output_type": "stream",
     "text": [
      "Libraries and modules loaded successfully.\n"
     ]
    }
   ],
   "source": [
    "# === IMPORTS AND SETUP ===\n",
    "import sys\n",
    "import os\n",
    "\n",
    "project_root = os.path.abspath('..')\n",
    "if project_root not in sys.path:\n",
    "    sys.path.insert(0, project_root)\n",
    "\n",
    "# Import our custom modules from the 'src' directory\n",
    "from src.data_generation import mackey_glass, generate_arma_data, generate_narma_data\n",
    "from src.experiment import run_qrc_experiment, run_classical_experiment\n",
    "\n",
    "import itertools\n",
    "import pandas as pd\n",
    "from joblib import Parallel, delayed\n",
    "from tqdm.notebook import tqdm\n",
    "\n",
    "\n",
    "# Jupyter magic command for automatic reloading of external modules\n",
    "%load_ext autoreload\n",
    "%autoreload 2\n",
    "\n",
    "print(\"Libraries and modules loaded successfully.\")"
   ]
  },
  {
   "cell_type": "code",
   "execution_count": 2,
   "id": "6e29a46b",
   "metadata": {},
   "outputs": [
    {
     "name": "stdout",
     "output_type": "stream",
     "text": [
      "Configuration ready. Results will be saved to: ../data/results_comparative.csv\n"
     ]
    }
   ],
   "source": [
    "# === EXPERIMENT CONFIGURATION ===\n",
    "\n",
    "# General constants\n",
    "SEED = 2025\n",
    "TRAIN_FRACTION = 0.7\n",
    "RESULTS_FILENAME = '../data/results_comparative.csv' # Results will be saved in the data folder\n",
    "\n",
    "# Data profiles for analysis\n",
    "data_profiles = [\n",
    "    {'name': 'Classic_Chaos_(tau=17)', 'generator': mackey_glass, 'params': {'tau': 17}},\n",
    "    {'name': 'Complex_Chaos_(tau=30)', 'generator': mackey_glass, 'params': {'tau': 30}},\n",
    "    {'name': 'Hyperchaotic_(tau=100)', 'generator': mackey_glass, 'params': {'tau': 100}},\n",
    "    {'name': 'ARMA_1_2_stochastic', 'generator': generate_arma_data, 'params': {}},\n",
    "    {'name': 'NARMA10_Chaotic', 'generator': generate_narma_data, 'params': {'order': 10}},\n",
    "    {'name': 'NARMA5_Chaotic', 'generator': generate_narma_data, 'params': {'order': 5}}\n",
    "]\n",
    "\n",
    "# Hyperparameter grid for the QRC-ESN model\n",
    "param_grid_qrc = {\n",
    "    'leakage_rate': [0.1, 0.3, 0.5, 0.7, 0.9],\n",
    "    'lambda_reg': [1e-8],\n",
    "    'window_size': [4, 6, 8, 10],\n",
    "    'n_layers': [2, 3, 4],\n",
    "    'lag': [0]\n",
    "}\n",
    "\n",
    "# Hyperparameter grid for the Classical ESN model\n",
    "param_grid_classical = {\n",
    "    'reservoir_size': [50, 100, 150],\n",
    "    'spectral_radius': [0.9, 1.1, 1.25],\n",
    "    'sparsity': [0.1, 0.2],\n",
    "    'leakage_rate': [0.1, 0.3, 0.5, 0.7, 0.9],\n",
    "    'lambda_reg': [1e-8]\n",
    "}\n",
    "\n",
    "print(f\"Configuration ready. Results will be saved to: {RESULTS_FILENAME}\")"
   ]
  },
  {
   "cell_type": "code",
   "execution_count": 3,
   "id": "6cd9b400",
   "metadata": {},
   "outputs": [
    {
     "name": "stdout",
     "output_type": "stream",
     "text": [
      "\n",
      "====================\n",
      "STARTING PROFILE: Classic_Chaos_(tau=17)\n",
      "====================\n"
     ]
    },
    {
     "data": {
      "application/vnd.jupyter.widget-view+json": {
       "model_id": "542d0ea61b1a4982a044c8c5142167a3",
       "version_major": 2,
       "version_minor": 0
      },
      "text/plain": [
       "QRC Grid Search (Classic_Chaos_(tau=17)):   0%|          | 0/60 [00:00<?, ?it/s]"
      ]
     },
     "metadata": {},
     "output_type": "display_data"
    },
    {
     "data": {
      "application/vnd.jupyter.widget-view+json": {
       "model_id": "3325b135bfdf4674a32a753d1d60b35f",
       "version_major": 2,
       "version_minor": 0
      },
      "text/plain": [
       "Classical ESN Search (Classic_Chaos_(tau=17)):   0%|          | 0/90 [00:00<?, ?it/s]"
      ]
     },
     "metadata": {},
     "output_type": "display_data"
    },
    {
     "name": "stdout",
     "output_type": "stream",
     "text": [
      "\n",
      "====================\n",
      "STARTING PROFILE: Complex_Chaos_(tau=30)\n",
      "====================\n"
     ]
    },
    {
     "data": {
      "application/vnd.jupyter.widget-view+json": {
       "model_id": "0529bb2211e74c248724d90fe56d0e60",
       "version_major": 2,
       "version_minor": 0
      },
      "text/plain": [
       "QRC Grid Search (Complex_Chaos_(tau=30)):   0%|          | 0/60 [00:00<?, ?it/s]"
      ]
     },
     "metadata": {},
     "output_type": "display_data"
    },
    {
     "data": {
      "application/vnd.jupyter.widget-view+json": {
       "model_id": "d1cf6df530f8487eb638c578c8409651",
       "version_major": 2,
       "version_minor": 0
      },
      "text/plain": [
       "Classical ESN Search (Complex_Chaos_(tau=30)):   0%|          | 0/90 [00:00<?, ?it/s]"
      ]
     },
     "metadata": {},
     "output_type": "display_data"
    },
    {
     "name": "stdout",
     "output_type": "stream",
     "text": [
      "\n",
      "====================\n",
      "STARTING PROFILE: Hyperchaotic_(tau=100)\n",
      "====================\n"
     ]
    },
    {
     "data": {
      "application/vnd.jupyter.widget-view+json": {
       "model_id": "6ada3464baf84b3ab258b0d9524a4140",
       "version_major": 2,
       "version_minor": 0
      },
      "text/plain": [
       "QRC Grid Search (Hyperchaotic_(tau=100)):   0%|          | 0/60 [00:00<?, ?it/s]"
      ]
     },
     "metadata": {},
     "output_type": "display_data"
    },
    {
     "data": {
      "application/vnd.jupyter.widget-view+json": {
       "model_id": "99ce2a559ef64e1d944c3c14fb9b84a7",
       "version_major": 2,
       "version_minor": 0
      },
      "text/plain": [
       "Classical ESN Search (Hyperchaotic_(tau=100)):   0%|          | 0/90 [00:00<?, ?it/s]"
      ]
     },
     "metadata": {},
     "output_type": "display_data"
    },
    {
     "name": "stdout",
     "output_type": "stream",
     "text": [
      "\n",
      "====================\n",
      "STARTING PROFILE: ARMA_1_2_stochastic\n",
      "====================\n"
     ]
    },
    {
     "data": {
      "application/vnd.jupyter.widget-view+json": {
       "model_id": "ff2c886f962648b6be047201b754751b",
       "version_major": 2,
       "version_minor": 0
      },
      "text/plain": [
       "QRC Grid Search (ARMA_1_2_stochastic):   0%|          | 0/60 [00:00<?, ?it/s]"
      ]
     },
     "metadata": {},
     "output_type": "display_data"
    },
    {
     "data": {
      "application/vnd.jupyter.widget-view+json": {
       "model_id": "387fc78390604a03bfae1baa5111e3eb",
       "version_major": 2,
       "version_minor": 0
      },
      "text/plain": [
       "Classical ESN Search (ARMA_1_2_stochastic):   0%|          | 0/90 [00:00<?, ?it/s]"
      ]
     },
     "metadata": {},
     "output_type": "display_data"
    },
    {
     "name": "stdout",
     "output_type": "stream",
     "text": [
      "\n",
      "====================\n",
      "STARTING PROFILE: NARMA10_Chaotic\n",
      "====================\n"
     ]
    },
    {
     "data": {
      "application/vnd.jupyter.widget-view+json": {
       "model_id": "a49a0cc8de0a47d0b0ca9813f7647b18",
       "version_major": 2,
       "version_minor": 0
      },
      "text/plain": [
       "QRC Grid Search (NARMA10_Chaotic):   0%|          | 0/60 [00:00<?, ?it/s]"
      ]
     },
     "metadata": {},
     "output_type": "display_data"
    },
    {
     "data": {
      "application/vnd.jupyter.widget-view+json": {
       "model_id": "2c8900c5242d4ec99c7031990679cc33",
       "version_major": 2,
       "version_minor": 0
      },
      "text/plain": [
       "Classical ESN Search (NARMA10_Chaotic):   0%|          | 0/90 [00:00<?, ?it/s]"
      ]
     },
     "metadata": {},
     "output_type": "display_data"
    },
    {
     "name": "stdout",
     "output_type": "stream",
     "text": [
      "\n",
      "====================\n",
      "STARTING PROFILE: NARMA5_Chaotic\n",
      "====================\n"
     ]
    },
    {
     "data": {
      "application/vnd.jupyter.widget-view+json": {
       "model_id": "ffe460e0a784420695611c0f6088797e",
       "version_major": 2,
       "version_minor": 0
      },
      "text/plain": [
       "QRC Grid Search (NARMA5_Chaotic):   0%|          | 0/60 [00:00<?, ?it/s]"
      ]
     },
     "metadata": {},
     "output_type": "display_data"
    },
    {
     "data": {
      "application/vnd.jupyter.widget-view+json": {
       "model_id": "ef065881940b40c3b39b6f4b47b42217",
       "version_major": 2,
       "version_minor": 0
      },
      "text/plain": [
       "Classical ESN Search (NARMA5_Chaotic):   0%|          | 0/90 [00:00<?, ?it/s]"
      ]
     },
     "metadata": {},
     "output_type": "display_data"
    },
    {
     "name": "stdout",
     "output_type": "stream",
     "text": [
      "\n",
      "--- ALL EXPERIMENTS COMPLETED ---\n"
     ]
    }
   ],
   "source": [
    "# === MAIN EXECUTION LOOP ===\n",
    "\n",
    "all_results = []\n",
    "\n",
    "# Iterate over each defined data profile\n",
    "for profile in data_profiles:\n",
    "    print(f\"\\n{'='*20}\\nSTARTING PROFILE: {profile['name']}\\n{'='*20}\")\n",
    "    \n",
    "    # Generate the time series for the current profile\n",
    "    time_series = profile['generator'](**profile['params'])\n",
    "    \n",
    "    # --- QRC Grid Search ---\n",
    "    param_combinations_qrc = list(itertools.product(*param_grid_qrc.values()))\n",
    "    \n",
    "    qrc_results = Parallel(n_jobs=-1)(\n",
    "        delayed(run_qrc_experiment)(params, profile, time_series, TRAIN_FRACTION, SEED)\n",
    "        for params in tqdm(param_combinations_qrc, desc=f\"QRC Grid Search ({profile['name']})\")\n",
    "    )\n",
    "    all_results.extend(filter(None, qrc_results))\n",
    "\n",
    "    # --- Classical ESN Grid Search ---\n",
    "    param_combinations_classical = list(itertools.product(*param_grid_classical.values()))\n",
    "    \n",
    "    classical_results = Parallel(n_jobs=-1)(\n",
    "        delayed(run_classical_experiment)(params, profile, time_series, TRAIN_FRACTION, SEED)\n",
    "        for params in tqdm(param_combinations_classical, desc=f\"Classical ESN Search ({profile['name']})\")\n",
    "    )\n",
    "    all_results.extend(filter(None, classical_results))\n",
    "\n",
    "print(\"\\n--- ALL EXPERIMENTS COMPLETED ---\")"
   ]
  },
  {
   "cell_type": "code",
   "execution_count": 4,
   "id": "5151f9d4",
   "metadata": {},
   "outputs": [
    {
     "name": "stdout",
     "output_type": "stream",
     "text": [
      "Successfully saved 900 results to ../data/results_comparative.csv\n"
     ]
    },
    {
     "data": {
      "text/html": [
       "<div>\n",
       "<style scoped>\n",
       "    .dataframe tbody tr th:only-of-type {\n",
       "        vertical-align: middle;\n",
       "    }\n",
       "\n",
       "    .dataframe tbody tr th {\n",
       "        vertical-align: top;\n",
       "    }\n",
       "\n",
       "    .dataframe thead th {\n",
       "        text-align: right;\n",
       "    }\n",
       "</style>\n",
       "<table border=\"1\" class=\"dataframe\">\n",
       "  <thead>\n",
       "    <tr style=\"text-align: right;\">\n",
       "      <th></th>\n",
       "      <th>model_type</th>\n",
       "      <th>data_profile</th>\n",
       "      <th>mse</th>\n",
       "      <th>leakage_rate</th>\n",
       "      <th>lambda_reg</th>\n",
       "      <th>window_size</th>\n",
       "      <th>n_layers</th>\n",
       "      <th>lag</th>\n",
       "      <th>seed</th>\n",
       "      <th>reservoir_size</th>\n",
       "      <th>spectral_radius</th>\n",
       "      <th>sparsity</th>\n",
       "    </tr>\n",
       "  </thead>\n",
       "  <tbody>\n",
       "    <tr>\n",
       "      <th>0</th>\n",
       "      <td>QRC</td>\n",
       "      <td>Classic_Chaos_(tau=17)</td>\n",
       "      <td>0.001060</td>\n",
       "      <td>0.1</td>\n",
       "      <td>1.000000e-08</td>\n",
       "      <td>4</td>\n",
       "      <td>2.0</td>\n",
       "      <td>0.0</td>\n",
       "      <td>2025</td>\n",
       "      <td>NaN</td>\n",
       "      <td>NaN</td>\n",
       "      <td>NaN</td>\n",
       "    </tr>\n",
       "    <tr>\n",
       "      <th>1</th>\n",
       "      <td>QRC</td>\n",
       "      <td>Classic_Chaos_(tau=17)</td>\n",
       "      <td>0.000826</td>\n",
       "      <td>0.1</td>\n",
       "      <td>1.000000e-08</td>\n",
       "      <td>4</td>\n",
       "      <td>3.0</td>\n",
       "      <td>0.0</td>\n",
       "      <td>2025</td>\n",
       "      <td>NaN</td>\n",
       "      <td>NaN</td>\n",
       "      <td>NaN</td>\n",
       "    </tr>\n",
       "    <tr>\n",
       "      <th>2</th>\n",
       "      <td>QRC</td>\n",
       "      <td>Classic_Chaos_(tau=17)</td>\n",
       "      <td>0.000970</td>\n",
       "      <td>0.1</td>\n",
       "      <td>1.000000e-08</td>\n",
       "      <td>4</td>\n",
       "      <td>4.0</td>\n",
       "      <td>0.0</td>\n",
       "      <td>2025</td>\n",
       "      <td>NaN</td>\n",
       "      <td>NaN</td>\n",
       "      <td>NaN</td>\n",
       "    </tr>\n",
       "    <tr>\n",
       "      <th>3</th>\n",
       "      <td>QRC</td>\n",
       "      <td>Classic_Chaos_(tau=17)</td>\n",
       "      <td>0.000470</td>\n",
       "      <td>0.1</td>\n",
       "      <td>1.000000e-08</td>\n",
       "      <td>6</td>\n",
       "      <td>2.0</td>\n",
       "      <td>0.0</td>\n",
       "      <td>2025</td>\n",
       "      <td>NaN</td>\n",
       "      <td>NaN</td>\n",
       "      <td>NaN</td>\n",
       "    </tr>\n",
       "    <tr>\n",
       "      <th>4</th>\n",
       "      <td>QRC</td>\n",
       "      <td>Classic_Chaos_(tau=17)</td>\n",
       "      <td>0.000578</td>\n",
       "      <td>0.1</td>\n",
       "      <td>1.000000e-08</td>\n",
       "      <td>6</td>\n",
       "      <td>3.0</td>\n",
       "      <td>0.0</td>\n",
       "      <td>2025</td>\n",
       "      <td>NaN</td>\n",
       "      <td>NaN</td>\n",
       "      <td>NaN</td>\n",
       "    </tr>\n",
       "  </tbody>\n",
       "</table>\n",
       "</div>"
      ],
      "text/plain": [
       "  model_type            data_profile       mse  leakage_rate    lambda_reg  \\\n",
       "0        QRC  Classic_Chaos_(tau=17)  0.001060           0.1  1.000000e-08   \n",
       "1        QRC  Classic_Chaos_(tau=17)  0.000826           0.1  1.000000e-08   \n",
       "2        QRC  Classic_Chaos_(tau=17)  0.000970           0.1  1.000000e-08   \n",
       "3        QRC  Classic_Chaos_(tau=17)  0.000470           0.1  1.000000e-08   \n",
       "4        QRC  Classic_Chaos_(tau=17)  0.000578           0.1  1.000000e-08   \n",
       "\n",
       "   window_size  n_layers  lag  seed  reservoir_size  spectral_radius  sparsity  \n",
       "0            4       2.0  0.0  2025             NaN              NaN       NaN  \n",
       "1            4       3.0  0.0  2025             NaN              NaN       NaN  \n",
       "2            4       4.0  0.0  2025             NaN              NaN       NaN  \n",
       "3            6       2.0  0.0  2025             NaN              NaN       NaN  \n",
       "4            6       3.0  0.0  2025             NaN              NaN       NaN  "
      ]
     },
     "execution_count": 4,
     "metadata": {},
     "output_type": "execute_result"
    }
   ],
   "source": [
    "# === SAVE RESULTS ===\n",
    "\n",
    "# Convert the list of dictionaries to a pandas DataFrame\n",
    "results_df = pd.DataFrame(all_results)\n",
    "\n",
    "# Save the DataFrame to a CSV file\n",
    "results_df.to_csv(RESULTS_FILENAME, index=False)\n",
    "\n",
    "print(f\"Successfully saved {len(results_df)} results to {RESULTS_FILENAME}\")\n",
    "results_df.head()"
   ]
  }
 ],
 "metadata": {
  "kernelspec": {
   "display_name": ".AIntern",
   "language": "python",
   "name": "python3"
  },
  "language_info": {
   "codemirror_mode": {
    "name": "ipython",
    "version": 3
   },
   "file_extension": ".py",
   "mimetype": "text/x-python",
   "name": "python",
   "nbconvert_exporter": "python",
   "pygments_lexer": "ipython3",
   "version": "3.11.9"
  }
 },
 "nbformat": 4,
 "nbformat_minor": 5
}
