{
 "cells": [
  {
   "cell_type": "code",
   "execution_count": 1,
   "id": "2dd02cf6-9c16-4759-96a9-79bb5a5f6b16",
   "metadata": {},
   "outputs": [
    {
     "data": {
      "text/html": [
       "<style>\n",
       "table {float:left}\n",
       "</style>\n"
      ],
      "text/plain": [
       "<IPython.core.display.HTML object>"
      ]
     },
     "metadata": {},
     "output_type": "display_data"
    }
   ],
   "source": [
    "%%html\n",
    "<style>\n",
    "table {float:left}\n",
    "</style>"
   ]
  },
  {
   "cell_type": "markdown",
   "id": "9bb7743e-cef7-4794-98a1-2882c09b124e",
   "metadata": {},
   "source": [
    "# <font color=\"darkgray\">Quantum Reservoir Computing</font><br>Mathematical Foundations\n",
    "\n",
    "<table>\n",
    "    <tr><td><strong>Aim:</strong></td>\n",
    "        <td>To formulate a quantum reservoir computing model, so that it could be implemented \n",
    "            in <strong>Python</strong> with <strong>PennyLane</strong>.</td></tr>\n",
    "    <tr><td><strong>Author:</strong></td>\n",
    "        <td>Jacob L. Cybulski (<a href=\"https://jacobcybulski.com/\" target=\"_blank\">website</a>),\n",
    "            <em>Enquanted</em></td></tr>\n",
    "    <tr><td><strong>Release:</strong></td>\n",
    "        <td>April 2025</td></tr>\n",
    "    <tr><td><strong>Datasets:</strong></td>\n",
    "        <td>We will use the the Mackey-Glass time series generator (code included)</td></tr>\n",
    "    <tr><td><strong>Timeframe:</strong></td>\n",
    "        <td>01/07/25-26/09/25 (possible extensions)</td></tr>\n",
    "    <tr><td><strong>References:</strong></td>\n",
    "        <td>Unfortunately, there is no single simple formulation of a quantum reservoir. \n",
    "            Numerous papers have been checked for some good insights, including:\n",
    "            <ul>\n",
    "            <li>A. H. Abbas, H. Abdel-Ghani, and I. S. Maksymov, \n",
    "                “Classical and Quantum Physical Reservoir Computing for Onboard Artificial Intelligence Systems: A Perspective,” \n",
    "                Dynamics, vol. 4, no. 3, pp. 643–670, Aug. 2024, doi: 10.3390/dynamics4030033.</li>\n",
    "            <li>J. Chen, H. I. Nurdin, and N. Yamamoto, \n",
    "                “Temporal Information Processing on Noisy Quantum Computers,” \n",
    "                Phys. Rev. Appl., vol. 14, no. 2, p. 024065, Aug. 2020, doi: 10.1103/PhysRevApplied.14.024065.</li>\n",
    "            <li>K. Fujii and K. Nakajima, \n",
    "                “Quantum reservoir computing: a reservoir approach toward quantum machine learning on near-term quantum devices,” \n",
    "                Nov. 10, 2020, arXiv: arXiv:2011.04890. doi: 10.48550/arXiv.2011.04890.</li>\n",
    "            <li>N. Götting, F. Lohof, and C. Gies, \n",
    "                “Exploring quantumness in quantum reservoir computing,” \n",
    "                Phys. Rev. A, vol. 108, no. 5, p. 052427, Nov. 2023, doi: 10.1103/PhysRevA.108.052427.</li>\n",
    "            <li>P. Mujal et al., \n",
    "                “Opportunities in Quantum Reservoir Computing and Extreme Learning Machines,” \n",
    "                Adv. Quantum Technol., vol. 4, no. 8, p. 2100027, Aug. 2021, doi: 10.1002/qute.202100027.</li>\n",
    "            <li>Q. H. Tran, S. Ghosh, and K. Nakajima, \n",
    "                “Quantum-classical hybrid information processing via a single quantum system,” \n",
    "                Phys. Rev. Res., vol. 5, no. 4, p. 043127, Nov. 2023, doi: 10.1103/PhysRevResearch.5.043127.</li>\n",
    "            <li>T. Yasuda et al., \n",
    "                “Quantum reservoir computing with repeated measurements on superconducting devices,” \n",
    "                Oct. 10, 2023, arXiv: arXiv:2310.06706. doi: 10.48550/arXiv.2310.06706.</li>\n",
    "        </ul>\n",
    "        And some others...</td>\n",
    "    </tr>\n",
    "    <tr><td><strong>License:</strong></td>\n",
    "        <td>This project is licensed under the\n",
    "            <a href=\"./LICENSE\" target=\"_blank\">GNU General Public License V3</a></td></tr>\n",
    "</table>"
   ]
  },
  {
   "cell_type": "markdown",
   "id": "53471bd9-e422-4213-9b36-0ab80b2e7b9c",
   "metadata": {},
   "source": [
    "## **Quantum reservoir and its dynamics**\n",
    "\n",
    "Quantum reservoir computing (QRC) is a quantum approach to the creation of Reservoir Computing, which is a concepts derived from recurrent neural networks (RNN). \n",
    "It can be applied to all types of data, however, it is especially useful for temporal data. \n",
    "Reservoir computing utilises a large sparse neural network of randomly initialised and fixed weights (_**reservoir**_),\n",
    "responsible for transforming input into a higher-dimensional space.\n",
    "In high-dimensional space, data can be easily separated  (_**classified**_) by using a simple linear model (_**readout layer**_),\n",
    "such a ridge regression.\n",
    "The _**reservoir dynamics**_ can be specified by a set of differential equations (_**update rules**_)\n",
    "responsible for describing changes to the reservoir state over time.\n",
    "\n",
    "Typical reservoir computing applications include: time-series forecasting, speech recognition and video analysis, control of robots or autonomous vehicles, as well as, predicting weather patterns and stock markets.\n",
    "\n",
    "We implement a quantum reservoir as a _**parameterized quantum circuit**_, evolving as a _**classical shadow**_ of the circuit's quantum state (which is explained later)."
   ]
  },
  {
   "cell_type": "markdown",
   "id": "1425ca93-c86b-425b-9402-755a7bda95e3",
   "metadata": {},
   "source": [
    "### 1. **Quantum circuit**\n",
    "The circuit $ U $ is composed of an input encoding block $ S(u(t)) $ and a parameterized block $ W(\\theta) $, applied sequentially:\n",
    "$$\n",
    "U(u(t), \\theta) = W(\\theta) \\cdot S(u(t)).\n",
    "$$\n",
    "- The circuit acts on $ n $ qubits, initialized in a fixed state (typically $ |0\\rangle^{\\otimes n} $).\n",
    "\n",
    "where:\n",
    "- $U(u(t), \\theta)$ is the unitary operator representing the quantum circuit,<br>\n",
    "  taking input $u(t)$ and fixed parameters $\\theta$,\n",
    "- $S(x)$ is the encoding block for input $x$,\n",
    "- $W(\\theta)$ is a parametrized entangling block,\n",
    "- $u(t)$ is the input at time $t$,\n",
    "- $\\theta$ are the parameters of the quantum circuit (e.g., rotation angles)."
   ]
  },
  {
   "cell_type": "markdown",
   "id": "07040346-763c-400f-ab58-579ae1d7672f",
   "metadata": {},
   "source": [
    "### 2. **Input Encoding Block $ S(u(t)) $**\n",
    "The input $ u(t) \\in \\mathbb{R} $ is encoded into the quantum state via unitary operations. While many possible encoding schemes are applicable to time series data, we selected angle encoding as giving the most flexibility:\n",
    "- For each qubit $ j $, we apply rotation $ e^{-i u(t) G_j} $, where $ G_j $ is a Hermitian operator (e.g., $ X $, $ Y $, or $ Z $).\n",
    "\n",
    "For example, if we use $RX$ gates for data encoding then the $j$-th qubit encoding would be:\n",
    "$$\n",
    "RX(u_j(t)) = e^{-i u_j(t) X},\n",
    "$$\n",
    "where $X$ is the Pauli-X operator, which rotates the qubit around the $X$-axis by an angle proportional to the input (note that encoded value may need to be scaled to the appropriate range, e.g. $[0..\\pi]$).\n",
    "\n",
    "In our model, we also add **bias terms** $b_i$ to the input encoding:\n",
    "$$\n",
    "RX(u_j(t) + b_j).\n",
    "$$"
   ]
  },
  {
   "cell_type": "markdown",
   "id": "1a225cb0-29c3-456b-8fa8-e821e952c3e2",
   "metadata": {},
   "source": [
    "### 3. **Parameterized Block $ W(\\theta) $**\n",
    "This block consists of layers of trainable rotations and entangling gates:\n",
    "- **Single-qubit rotations**: For each qubit $ j $, apply:\n",
    "$$\n",
    "  RZ(\\theta_{j,3}) RY(\\theta_{j,2}) RZ(\\theta_{j,1}),\n",
    "$$\n",
    "  where $ \\theta_{j,k} $ are parameters and $ RY/RZ $ are Pauli-Y/Z rotations.\n",
    "  \n",
    "- **Entangling gates**: CNOTs are arranged according to the entanglement graph pattern (in our case, the nearest-neighbor coupling pattern):\n",
    "$$\n",
    "  \\prod_{(j,k) \\in E} \\text{CNOT}_{j \\to k},\n",
    "$$\n",
    "  where $ E $ defines the entanglement graph.\n",
    "\n",
    "For $ L $ layers, $ W(\\theta) $ is a product of $ L $ such blocks:\n",
    "$$\n",
    "W(\\theta) = \\prod_{l=1}^L W_l(\\theta_l), \\quad \\text{where } W_l \\text{ is the } l\\text{-th layer}.\n",
    "$$"
   ]
  },
  {
   "cell_type": "markdown",
   "id": "7d80c023-0972-4827-929b-be1ba3d7bbd4",
   "metadata": {},
   "source": [
    "### 4. **Reservoir State $ r(t) $**\n",
    "The reservoir state is constructed by measuring single-qubit Pauli expectations:\n",
    "- For each qubit $ j $, we measure $ \\langle X_j \\rangle $, $ \\langle Y_j \\rangle $, and $ \\langle Z_j \\rangle $:\n",
    "$$\n",
    "  \\langle X_j \\rangle = \\text{Tr}(\\rho(t) X_j), \\quad \\langle Y_j \\rangle = \\text{Tr}(\\rho(t) Y_j), \\quad \\langle Z_j \\rangle = \\text{Tr}(\\rho(t) Z_j),\n",
    "$$\n",
    "  where $ \\rho(t) = U(u(t), \\theta) |0\\rangle\\langle 0| U^\\dagger(u(t), \\theta) $ is the circuit's evolved state.\n",
    "\n",
    "- The reservoir state $ r(t) \\in \\mathbb{R}^{3n} $ is:\n",
    "$$\n",
    "  r(t) = \\left[ \\langle X_1 \\rangle, \\langle Y_1 \\rangle, \\langle Z_1 \\rangle, \\dots, \\langle X_n \\rangle, \\langle Y_n \\rangle, \\langle Z_n \\rangle \\right]^T.\n",
    "$$\n",
    "\n",
    "**Notes:** \n",
    "- $ r(t) $ is a **classical shadow** of the quantum state, capturing local observables rather than the full state.\n",
    "- $ r(t) $ dimension is ($ 3n $), which is linear in the number of qubits, making classical model training (such as ridge regression) manageable.\n",
    "- Should a reservoir of exponential size be required then the **pure state** of the $ n $-qubit system could be used as its state, i.e. $|\\psi(t)\\rangle = U(u(t), \\theta) |0\\rangle^{\\otimes n}.$"
   ]
  },
  {
   "cell_type": "markdown",
   "id": "77620fc6-6440-42b4-aa00-94f7da6ba2f6",
   "metadata": {},
   "source": [
    "### 5. **Leakage Rate**\n",
    "To model memory effects (leakage), the QRC maintains the reservoir **effective state**, where the reservoir's measured state is combined with its past states. The **leakage rate** indicates what proportion of the previous state (memory) is lost to accomodate the newly computed state in response to input. For a leakage rate $ \\gamma \\in (0,1) $:\n",
    "$$\n",
    "\\tilde{r}(t) = \\gamma r(t) + (1 - \\gamma) \\tilde{r}(t-1),\n",
    "$$\n",
    "where:\n",
    "- $r(t)$ is a the reservoir measured state; and,\n",
    "- $\\tilde{r}(t)$ is the effective state (with leakage) used for readout."
   ]
  },
  {
   "cell_type": "markdown",
   "id": "9654b762-efcc-4fce-ac9b-ce67065cb704",
   "metadata": {},
   "source": [
    "### 6. **Readout Layer**\n",
    "A classical **ridge regression** maps $ \\tilde{r}(t) $ to an output $ y(t) $:\n",
    "$$\n",
    "y(t) = w^T \\tilde{r}(t) + b,\n",
    "$$\n",
    "where weights $ w \\in \\mathbb{R}^{3n} $ and biases $ b \\in \\mathbb{R} $ are trained via:\n",
    "$$\n",
    "\\min_{w,b} \\sum_{t} \\| y(t) - y_{\\text{target}}(t) \\|^2 + \\lambda \\| w \\|^2,\n",
    "$$\n",
    "with regularization parameter $ \\lambda $.\n",
    "\n",
    "**Note:** see the classical RC model for the explanation of why ridge regression is appropriate for training the hybrid reservoir model."
   ]
  },
  {
   "cell_type": "markdown",
   "id": "213ec15c-b29f-458d-ad04-b4513ce60421",
   "metadata": {},
   "source": [
    "### **Algorithm summary**\n",
    "The model’s operation can be summarized as follows:\n",
    "1. Encode input $ u(t) $ into $ S(u(t)) $.\n",
    "2. Apply parameterized circuit $ W(\\theta) $.\n",
    "3. Measure Pauli expectations to form state $ r(t) $.\n",
    "4. Apply leakage to get effective state $ \\tilde{r}(t) $.\n",
    "5. Compute output $ y(t) $ via ridge regression.\n",
    "\n",
    "### **Notation used**\n",
    "- **Circuit**: $ U(u(t), \\theta) = W(\\theta) S(u(t)) $.\n",
    "- **Circuit state**: $ \\rho(t) = U |0\\rangle\\langle 0| U^\\dagger $.\n",
    "- **Reservoir state**: $ r(t) = \\left[ \\langle X_1 \\rangle, \\dots, \\langle Z_n \\rangle \\right]^T $.\n",
    "- **Effective state**: $ \\tilde{r}(t) = \\gamma r(t) + (1 - \\gamma) \\tilde{r}(t-1) $\n",
    "- **Readout**: $ y(t) = w^T \\tilde{r}(t) + b $."
   ]
  }
 ],
 "metadata": {
  "kernelspec": {
   "display_name": "Python 3 (ipykernel)",
   "language": "python",
   "name": "python3"
  },
  "language_info": {
   "codemirror_mode": {
    "name": "ipython",
    "version": 3
   },
   "file_extension": ".py",
   "mimetype": "text/x-python",
   "name": "python",
   "nbconvert_exporter": "python",
   "pygments_lexer": "ipython3",
   "version": "3.11.9"
  }
 },
 "nbformat": 4,
 "nbformat_minor": 5
}
